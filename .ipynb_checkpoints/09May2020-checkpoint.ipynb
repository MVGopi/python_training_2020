{
 "cells": [
  {
   "cell_type": "markdown",
   "metadata": {},
   "source": [
    "- Create the following functions\n",
    "    - Define a function that gives no of lines in a text files\n",
    "    - Define a function that gives no of words in a text file\n",
    "    - Define a function that gives no of characters in text file\n",
    "    - Define a function that gives sum of numbers in the text file"
   ]
  },
  {
   "cell_type": "code",
   "execution_count": 4,
   "metadata": {},
   "outputs": [
    {
     "data": {
      "text/plain": [
       "'No of lines: 5'"
      ]
     },
     "execution_count": 4,
     "metadata": {},
     "output_type": "execute_result"
    }
   ],
   "source": [
    "# line count in a text file\n",
    "def lineCount():\n",
    "    with open('new2.txt', 'r') as data:\n",
    "        file_data = data.read()\n",
    "        #return file_data\n",
    "        lines = file_data.strip().split('\\n')\n",
    "        return \"No of lines: \"+str(len(lines))\n",
    "lineCount()"
   ]
  },
  {
   "cell_type": "code",
   "execution_count": 5,
   "metadata": {},
   "outputs": [
    {
     "data": {
      "text/plain": [
       "'No of words: 28'"
      ]
     },
     "execution_count": 5,
     "metadata": {},
     "output_type": "execute_result"
    }
   ],
   "source": [
    "# word count\n",
    "def wordCount():\n",
    "    with open('new2.txt', 'r') as f:\n",
    "        file_data = f.read().strip()\n",
    "        lines = file_data.split('\\n')\n",
    "        wc = 0\n",
    "        for line in lines:\n",
    "            wc += len(line.split())\n",
    "        return \"No of words: \"+str(wc)\n",
    "wordCount()"
   ]
  },
  {
   "cell_type": "code",
   "execution_count": null,
   "metadata": {},
   "outputs": [
    {
     "name": "stdout",
     "output_type": "stream",
     "text": [
      "Enter: sdhsj\n"
     ]
    }
   ],
   "source": [
    "def createFile(N):\n",
    "    with open('new3.txt', 'a') as f:\n",
    "        for line in range(N):\n",
    "            f.write('\\n'+input('Enter: '))\n",
    "    with open('new3.txt', 'r') as f:\n",
    "        return f.read()\n",
    "createFile(3)"
   ]
  },
  {
   "cell_type": "code",
   "execution_count": null,
   "metadata": {},
   "outputs": [],
   "source": []
  }
 ],
 "metadata": {
  "kernelspec": {
   "display_name": "Python 3",
   "language": "python",
   "name": "python3"
  },
  "language_info": {
   "codemirror_mode": {
    "name": "ipython",
    "version": 3
   },
   "file_extension": ".py",
   "mimetype": "text/x-python",
   "name": "python",
   "nbconvert_exporter": "python",
   "pygments_lexer": "ipython3",
   "version": "3.7.7"
  }
 },
 "nbformat": 4,
 "nbformat_minor": 4
}
