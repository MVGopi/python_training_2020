{
 "cells": [
  {
   "cell_type": "code",
   "execution_count": 1,
   "metadata": {},
   "outputs": [],
   "source": [
    "class Employee:\n",
    "    '''This Employee class gives information of the employees'''\n",
    "    def __init__(self, name, salary):\n",
    "        self.name = name\n",
    "        self.salary = salary\n",
    "    def displayEmployeeDetails(self, city):\n",
    "        return {'Name':self.name, 'Salary':self.salary, 'City':city}\n",
    "    "
   ]
  },
  {
   "cell_type": "code",
   "execution_count": 5,
   "metadata": {},
   "outputs": [],
   "source": [
    "obj1 = Employee('venkat', '1300000')"
   ]
  },
  {
   "cell_type": "code",
   "execution_count": 7,
   "metadata": {},
   "outputs": [
    {
     "data": {
      "text/plain": [
       "{'Name': 'venkat', 'Salary': '1300000', 'City': 'vijayawada'}"
      ]
     },
     "execution_count": 7,
     "metadata": {},
     "output_type": "execute_result"
    }
   ],
   "source": [
    "obj1.displayEmployeeDetails('vijayawada')"
   ]
  },
  {
   "cell_type": "markdown",
   "metadata": {},
   "source": [
    "#### Inheritance\n",
    "- Accessing properties of one class in another class"
   ]
  },
  {
   "cell_type": "code",
   "execution_count": 8,
   "metadata": {},
   "outputs": [],
   "source": [
    "class ClassA:\n",
    "    def method1():\n",
    "        return 'I am from classA method1'\n",
    "    \n",
    "    "
   ]
  },
  {
   "cell_type": "code",
   "execution_count": 13,
   "metadata": {},
   "outputs": [],
   "source": [
    "class ClassB(ClassA):\n",
    "    def method2():\n",
    "        return 'I am from classb method2'"
   ]
  },
  {
   "cell_type": "code",
   "execution_count": 14,
   "metadata": {},
   "outputs": [],
   "source": [
    "obj1 = ClassB"
   ]
  },
  {
   "cell_type": "code",
   "execution_count": 15,
   "metadata": {},
   "outputs": [
    {
     "data": {
      "text/plain": [
       "'I am from classA method1'"
      ]
     },
     "execution_count": 15,
     "metadata": {},
     "output_type": "execute_result"
    }
   ],
   "source": [
    "obj1.method1()"
   ]
  },
  {
   "cell_type": "code",
   "execution_count": 17,
   "metadata": {},
   "outputs": [],
   "source": [
    "class Bird:\n",
    "    def action():\n",
    "        return 'Can fly..!!!'"
   ]
  },
  {
   "cell_type": "code",
   "execution_count": 18,
   "metadata": {},
   "outputs": [],
   "source": [
    "class Parrot:\n",
    "    def feature():\n",
    "        obj = Bird\n",
    "        return obj.action()"
   ]
  },
  {
   "cell_type": "code",
   "execution_count": 19,
   "metadata": {},
   "outputs": [],
   "source": [
    "obj2 = Parrot"
   ]
  },
  {
   "cell_type": "code",
   "execution_count": 21,
   "metadata": {},
   "outputs": [
    {
     "data": {
      "text/plain": [
       "'Can fly..!!!'"
      ]
     },
     "execution_count": 21,
     "metadata": {},
     "output_type": "execute_result"
    }
   ],
   "source": [
    "obj2.feature()"
   ]
  },
  {
   "cell_type": "markdown",
   "metadata": {},
   "source": [
    "#### Multiple Inhertance"
   ]
  },
  {
   "cell_type": "code",
   "execution_count": 22,
   "metadata": {},
   "outputs": [],
   "source": [
    "class ClassA:\n",
    "    def method1():\n",
    "        return \"I am from classA, Method1..!!!\""
   ]
  },
  {
   "cell_type": "code",
   "execution_count": 23,
   "metadata": {},
   "outputs": [],
   "source": [
    "class ClassB:\n",
    "    def method2():\n",
    "        return \"I am from classB, Method2..!!!\""
   ]
  },
  {
   "cell_type": "code",
   "execution_count": 26,
   "metadata": {},
   "outputs": [],
   "source": [
    "class ClassC(ClassA, ClassB):\n",
    "    def method3():\n",
    "        return \"I am from classc, Method3..!!!\""
   ]
  },
  {
   "cell_type": "code",
   "execution_count": 33,
   "metadata": {},
   "outputs": [],
   "source": [
    "obj5 = ClassC"
   ]
  },
  {
   "cell_type": "code",
   "execution_count": 34,
   "metadata": {},
   "outputs": [
    {
     "data": {
      "text/plain": [
       "'I am from classc, Method3..!!!'"
      ]
     },
     "execution_count": 34,
     "metadata": {},
     "output_type": "execute_result"
    }
   ],
   "source": [
    "obj5.method3()"
   ]
  },
  {
   "cell_type": "code",
   "execution_count": 35,
   "metadata": {},
   "outputs": [
    {
     "data": {
      "text/plain": [
       "'I am from classB, Method2..!!!'"
      ]
     },
     "execution_count": 35,
     "metadata": {},
     "output_type": "execute_result"
    }
   ],
   "source": [
    "obj5.method2()"
   ]
  },
  {
   "cell_type": "code",
   "execution_count": 36,
   "metadata": {},
   "outputs": [
    {
     "data": {
      "text/plain": [
       "'I am from classA, Method1..!!!'"
      ]
     },
     "execution_count": 36,
     "metadata": {},
     "output_type": "execute_result"
    }
   ],
   "source": [
    "obj5.method1()"
   ]
  },
  {
   "cell_type": "code",
   "execution_count": 1,
   "metadata": {},
   "outputs": [
    {
     "name": "stdout",
     "output_type": "stream",
     "text": [
      "\n",
      "Welcome to Python 3.7's help utility!\n",
      "\n",
      "If this is your first time using Python, you should definitely check out\n",
      "the tutorial on the Internet at https://docs.python.org/3.7/tutorial/.\n",
      "\n",
      "Enter the name of any module, keyword, or topic to get help on writing\n",
      "Python programs and using Python modules.  To quit this help utility and\n",
      "return to the interpreter, just type \"quit\".\n",
      "\n",
      "To get a list of available modules, keywords, symbols, or topics, type\n",
      "\"modules\", \"keywords\", \"symbols\", or \"topics\".  Each module also comes\n",
      "with a one-line summary of what it does; to list the modules whose name\n",
      "or summary contain a given string such as \"spam\", type \"modules spam\".\n",
      "\n",
      "help> modules\n",
      "\n",
      "Please wait a moment while I gather a list of all available modules...\n",
      "\n"
     ]
    },
    {
     "name": "stderr",
     "output_type": "stream",
     "text": [
      "c:\\users\\kommineni\\appdata\\local\\programs\\python\\python37-32\\lib\\site-packages\\IPython\\kernel\\__init__.py:13: ShimWarning: The `IPython.kernel` package has been deprecated since IPython 4.0.You should import from ipykernel or jupyter_client instead.\n",
      "  \"You should import from ipykernel or jupyter_client instead.\", ShimWarning)\n",
      "c:\\users\\kommineni\\appdata\\local\\programs\\python\\python37-32\\lib\\pkgutil.py:107: VisibleDeprecationWarning: zmq.eventloop.minitornado is deprecated in pyzmq 14.0 and will be removed.\n",
      "    Install tornado itself to use zmq with the tornado IOLoop.\n",
      "    \n",
      "  yield from walk_packages(path, info.name+'.', onerror)\n"
     ]
    },
    {
     "name": "stdout",
     "output_type": "stream",
     "text": [
      "IPython             cgitb               mmap                sunau\n",
      "__future__          chardet             mmapfile            symbol\n",
      "_abc                chunk               mmsystem            sympyprinting\n",
      "_ast                click               modulefinder        symtable\n",
      "_asyncio            cmath               msilib              sys\n",
      "_bisect             cmd                 msvcrt              sysconfig\n",
      "_blake2             code                multiprocessing     tabnanny\n",
      "_bootlocale         codecs              nbconvert           tarfile\n",
      "_bz2                codeop              nbformat            telnetlib\n",
      "_codecs             collections         netbios             tempfile\n",
      "_codecs_cn          colorama            netrc               terminado\n",
      "_codecs_hk          colorsys            nntplib             test\n",
      "_codecs_iso2022     commctrl            notebook            testpath\n",
      "_codecs_jp          compileall          nt                  tests\n",
      "_codecs_kr          concurrent          ntpath              textwrap\n",
      "_codecs_tw          configparser        ntsecuritycon       this\n",
      "_collections        contextlib          nturl2path          threading\n",
      "_collections_abc    contextvars         numbers             time\n",
      "_compat_pickle      copy                numpy               timeit\n",
      "_compression        copyreg             odbc                timer\n",
      "_contextvars        crypt               opcode              tkinter\n",
      "_csv                csv                 operator            token\n",
      "_ctypes             ctypes              optparse            tokenize\n",
      "_ctypes_test        curses              os                  tornado\n",
      "_datetime           cythonmagic         packaging           trace\n",
      "_decimal            dataclasses         pandas              traceback\n",
      "_dummy_thread       datetime            pandocfilters       tracemalloc\n",
      "_elementtree        dateutil            parser              traitlets\n",
      "_functools          dbi                 parso               tty\n",
      "_hashlib            dbm                 pathlib             turtle\n",
      "_heapq              dde                 pdb                 turtledemo\n",
      "_imp                decimal             perfmon             types\n",
      "_io                 decorator           pickle              typing\n",
      "_json               defusedxml          pickleshare         unicodedata\n",
      "_locale             difflib             pickletools         unittest\n",
      "_lsprof             dis                 pip                 urllib\n",
      "_lzma               distutils           pipes               urllib3\n",
      "_markupbase         django              pkg_resources       uu\n",
      "_md5                doctest             pkgutil             uuid\n",
      "_msi                docutils            platform            venv\n",
      "_multibytecodec     dummy_threading     plistlib            warnings\n",
      "_multiprocessing    easy_install        poplib              wave\n",
      "_opcode             email               posixpath           wcwidth\n",
      "_operator           encodings           pprint              weakref\n",
      "_osx_support        ensurepip           profile             webbrowser\n",
      "_overlapped         entrypoints         prometheus_client   webencodings\n",
      "_pickle             enum                prompt_toolkit      werkzeug\n",
      "_py_abc             errno               pstats              widgetsnbextension\n",
      "_pydecimal          faulthandler        pty                 win2kras\n",
      "_pyio               filecmp             py_compile          win32api\n",
      "_pyrsistent_version fileinput           pyclbr              win32clipboard\n",
      "_queue              flask               pydoc               win32com\n",
      "_random             flask_login         pydoc_data          win32con\n",
      "_sha1               flask_mail          pyexpat             win32console\n",
      "_sha256             flask_uploads       pygments            win32cred\n",
      "_sha3               fnmatch             pyparsing           win32crypt\n",
      "_sha512             formatter           pyrsistent          win32cryptcon\n",
      "_signal             fractions           pythoncom           win32event\n",
      "_sitebuiltins       ftplib              pytz                win32evtlog\n",
      "_socket             functools           pywin               win32evtlogutil\n",
      "_sqlite3            gc                  pywin32_bootstrap   win32file\n",
      "_sre                genericpath         pywin32_testutil    win32gui\n",
      "_ssl                getopt              pywintypes          win32gui_struct\n",
      "_stat               getpass             qtconsole           win32help\n",
      "_string             gettext             qtpy                win32inet\n",
      "_strptime           glob                queue               win32inetcon\n",
      "_struct             gzip                quopri              win32job\n",
      "_symtable           hashlib             random              win32lz\n",
      "_testbuffer         heapq               rasutil             win32net\n",
      "_testcapi           hmac                re                  win32netcon\n",
      "_testconsole        html                regcheck            win32pdh\n",
      "_testimportmultiple http                regutil             win32pdhquery\n",
      "_testmultiphase     idlelib             reprlib             win32pdhutil\n",
      "_thread             idna                requests            win32pipe\n",
      "_threading_local    imagesize           rlcompleter         win32print\n",
      "_tkinter            imaplib             rmagic              win32process\n",
      "_tracemalloc        imghdr              runpy               win32profile\n",
      "_warnings           imp                 sampl               win32ras\n",
      "_weakref            importlib           sched               win32rcparser\n",
      "_weakrefset         importlib_metadata  secrets             win32security\n",
      "_win32sysloader     inspect             select              win32service\n",
      "_winapi             io                  selectors           win32serviceutil\n",
      "_winxptheme         ipaddress           send2trash          win32timezone\n",
      "abc                 ipykernel           servicemanager      win32trace\n",
      "adodbapi            ipykernel_launcher  setuptools          win32traceutil\n",
      "afxres              ipython_genutils    shelve              win32transaction\n",
      "aifc                ipywidgets          shlex               win32ts\n",
      "alabaster           isapi               shutil              win32ui\n",
      "antigravity         itertools           signal              win32uiole\n",
      "argparse            itsdangerous        site                win32verstamp\n",
      "array               jedi                six                 win32wnet\n",
      "ast                 jinja2              smtpd               winerror\n",
      "asynchat            json                smtplib             winioctlcon\n",
      "asyncio             jsonschema          sndhdr              winnt\n",
      "asyncore            jupyter             snowballstemmer     winperf\n",
      "atexit              jupyter_client      socket              winpty\n",
      "attr                jupyter_console     socketserver        winreg\n",
      "audioop             jupyter_core        sphinx              winsound\n",
      "autoreload          keyword             sqlalchemy          winxpgui\n",
      "babel               lib2to3             sqlite3             winxptheme\n",
      "backcall            linecache           sqlparse            wsgiref\n",
      "base64              listPrograms        sre_compile         wtforms\n",
      "bdb                 listfunctions       sre_constants       xdrlib\n",
      "binascii            locale              sre_parse           xml\n",
      "binhex              logging             ssl                 xmlrpc\n",
      "bisect              lzma                sspi                xxsubtype\n",
      "bleach              macpath             sspicon             zipapp\n",
      "blinker             mailbox             stat                zipfile\n",
      "builtins            mailcap             statistics          zipimport\n",
      "bz2                 markupsafe          storemagic          zipp\n",
      "cProfile            marshal             string              zlib\n",
      "calendar            math                stringprep          zmq\n",
      "certifi             mimetypes           struct              ~jango\n",
      "cgi                 mistune             subprocess          \n",
      "\n",
      "Enter any module name to get more help.  Or, type \"modules spam\" to search\n",
      "for modules whose name or summary contain the string \"spam\".\n",
      "\n",
      "help> quit()\n",
      "No Python documentation found for 'quit()'.\n",
      "Use help() to get the interactive help utility.\n",
      "Use help(str) for help on the str class.\n",
      "\n",
      "help> quit\n"
     ]
    },
    {
     "name": "stdout",
     "output_type": "stream",
     "text": [
      "\n",
      "You are now leaving help and returning to the Python interpreter.\n",
      "If you want to ask for help on a particular object directly from the\n",
      "interpreter, you can type \"help(object)\".  Executing \"help('string')\"\n",
      "has the same effect as typing a particular string at the help> prompt.\n"
     ]
    }
   ],
   "source": [
    "help()"
   ]
  },
  {
   "cell_type": "markdown",
   "metadata": {},
   "source": [
    "#### Modules and Package"
   ]
  }
 ],
 "metadata": {
  "kernelspec": {
   "display_name": "Python 3",
   "language": "python",
   "name": "python3"
  },
  "language_info": {
   "codemirror_mode": {
    "name": "ipython",
    "version": 3
   },
   "file_extension": ".py",
   "mimetype": "text/x-python",
   "name": "python",
   "nbconvert_exporter": "python",
   "pygments_lexer": "ipython3",
   "version": "3.7.7"
  }
 },
 "nbformat": 4,
 "nbformat_minor": 4
}
