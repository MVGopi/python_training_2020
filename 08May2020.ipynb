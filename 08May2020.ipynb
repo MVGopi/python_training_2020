{
 "cells": [
  {
   "cell_type": "markdown",
   "metadata": {},
   "source": [
    "#### File Data  Processing\n",
    "- File is collection of data or records\n",
    "- .txt, .pdf, .docx, .html, .c, .py, .java"
   ]
  },
  {
   "cell_type": "markdown",
   "metadata": {},
   "source": [
    "#### File I/O Operations\n",
    "- Read\n",
    "    - Extracting or retriving data from file\n",
    "- Write\n",
    "    - In write operation we can create a new file, making changes in a file, when a write operation is performed we data in a file gets replaced or file will be overwritten\n",
    "- Append\n",
    "    - Adding data to the existing data\n",
    "- Close\n",
    "    - After performing write/append we should close the file otherwise we cannot observe changes"
   ]
  },
  {
   "cell_type": "markdown",
   "metadata": {},
   "source": [
    "### Read File"
   ]
  },
  {
   "cell_type": "code",
   "execution_count": 2,
   "metadata": {},
   "outputs": [
    {
     "name": "stdout",
     "output_type": "stream",
     "text": [
      "asshajs ssaj 32223 sdjskd 48398\n",
      "sjdhsjh 392892 sjjkd 329923892\n",
      "jhsjsd 2382938 sjdksj 928392\n",
      "sndksj 282983902 ksdjskjd\n"
     ]
    }
   ],
   "source": [
    "f = open('data.txt', 'r')\n",
    "data = f.read()\n",
    "print(data)"
   ]
  },
  {
   "cell_type": "markdown",
   "metadata": {},
   "source": [
    "#### Write File"
   ]
  },
  {
   "cell_type": "code",
   "execution_count": 3,
   "metadata": {},
   "outputs": [
    {
     "name": "stdout",
     "output_type": "stream",
     "text": [
      "Enter data to file: Hi everyone\n"
     ]
    }
   ],
   "source": [
    "f = open('data.txt', 'w')\n",
    "f.write(input('Enter data to file: '))\n",
    "f.close()"
   ]
  },
  {
   "cell_type": "code",
   "execution_count": 4,
   "metadata": {},
   "outputs": [],
   "source": [
    "with open('new.txt', 'w') as f:\n",
    "    f.write('abc 123 def 456 ghi 789')\n"
   ]
  },
  {
   "cell_type": "markdown",
   "metadata": {},
   "source": [
    "#### Append File"
   ]
  },
  {
   "cell_type": "code",
   "execution_count": 9,
   "metadata": {},
   "outputs": [
    {
     "name": "stdout",
     "output_type": "stream",
     "text": [
      "ghi 786 mnb opi 654\n"
     ]
    }
   ],
   "source": [
    "with open('new2.txt', 'a') as f:\n",
    "    #f.write('abc 123 def 456 ghi 789')\n",
    "    f.write('\\n'+input())"
   ]
  },
  {
   "cell_type": "markdown",
   "metadata": {},
   "source": [
    "- Create the following functions\n",
    "    - Define a function that gives no of lines in a text files\n",
    "    - Define a function that gives no of words in a text file\n",
    "    - Define a function that gives no of characters in text file\n",
    "    - Define a function that gives sum of numbers in the text file"
   ]
  },
  {
   "cell_type": "markdown",
   "metadata": {},
   "source": [
    "- Adding N no of user contacts into contacts.txt\n",
    "    - Name, Email, Mobile\n",
    "    - Validate Email and Mobile using re before appending into file, If any of the field not valid then we should return an message\n",
    "    "
   ]
  },
  {
   "cell_type": "code",
   "execution_count": 10,
   "metadata": {},
   "outputs": [
    {
     "name": "stdout",
     "output_type": "stream",
     "text": [
      "Enter n values to add contacts: 2\n",
      "Enter name of user: prashanth\n",
      "Enter email of user: prashanth12@gmail.com\n",
      "Enter mobile of user: 9876543210\n",
      "Enter name of user: pavan\n",
      "Enter email of user: pavan1234@gmail.com\n",
      "Enter mobile of user: 8765432109\n"
     ]
    },
    {
     "data": {
      "text/plain": [
       "'Contacts Added Successfully...!!!'"
      ]
     },
     "execution_count": 10,
     "metadata": {},
     "output_type": "execute_result"
    }
   ],
   "source": [
    "import re\n",
    "def addContacts(N):\n",
    "    with open('contacts.txt', 'a') as f:\n",
    "        for user in range(N):\n",
    "            Name = input('Enter name of user: ')\n",
    "            Email = input('Enter email of user: ')\n",
    "            Mobile = input('Enter mobile of user: ')\n",
    "            email_pattern = '^[a-z][a-z0-9._]{6,15}@[a-z.]{6,11}$'\n",
    "            mobile_pattern = '^[6-9][0-9]{9}$'\n",
    "            if(re.match(email_pattern, Email)):\n",
    "                if(re.match(mobile_pattern, Mobile)):\n",
    "                    f.write('\\n'+Name+'\\t'+'\\t'+Email+'\\t'+'\\t'+Mobile)\n",
    "                else:\n",
    "                    return \"Invalid Mobile \"+Mobile\n",
    "            else:\n",
    "                return \"Invalid Email \"+Email\n",
    "    return \"Contacts Added Successfully...!!!\"\n",
    "addContacts(int(input('Enter n values to add contacts: ')))"
   ]
  },
  {
   "cell_type": "code",
   "execution_count": null,
   "metadata": {},
   "outputs": [],
   "source": []
  }
 ],
 "metadata": {
  "kernelspec": {
   "display_name": "Python 3",
   "language": "python",
   "name": "python3"
  },
  "language_info": {
   "codemirror_mode": {
    "name": "ipython",
    "version": 3
   },
   "file_extension": ".py",
   "mimetype": "text/x-python",
   "name": "python",
   "nbconvert_exporter": "python",
   "pygments_lexer": "ipython3",
   "version": "3.7.7"
  }
 },
 "nbformat": 4,
 "nbformat_minor": 4
}
